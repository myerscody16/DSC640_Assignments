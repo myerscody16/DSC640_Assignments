{
 "cells": [
  {
   "cell_type": "code",
   "execution_count": 1,
   "metadata": {},
   "outputs": [
    {
     "name": "stderr",
     "output_type": "stream",
     "text": [
      "Warning message:\n",
      "\"package 'readxl' was built under R version 3.6.3\"Warning message:\n",
      "\"package 'ggplot2' was built under R version 3.6.3\"Warning message:\n",
      "\"package 'tidyr' was built under R version 3.6.3\"Warning message:\n",
      "\"package 'dplyr' was built under R version 3.6.3\"\n",
      "Attaching package: 'dplyr'\n",
      "\n",
      "The following objects are masked from 'package:stats':\n",
      "\n",
      "    filter, lag\n",
      "\n",
      "The following objects are masked from 'package:base':\n",
      "\n",
      "    intersect, setdiff, setequal, union\n",
      "\n"
     ]
    }
   ],
   "source": [
    "# Import all necessary libraries\n",
    "library(\"readxl\")\n",
    "library(\"ggplot2\")\n",
    "library(\"tidyr\")\n",
    "library(\"dplyr\")\n",
    "\n",
    "# Set the working directory\n",
    "setwd(\"C:/Users/myers/Documents/DSC640/Week1&2_Data\")"
   ]
  },
  {
   "cell_type": "code",
   "execution_count": 2,
   "metadata": {},
   "outputs": [
    {
     "data": {
      "text/html": [
       "<table>\n",
       "<thead><tr><th scope=col>Year</th><th scope=col>Winner</th><th scope=col>Dogs eaten</th><th scope=col>Country</th><th scope=col>New record</th></tr></thead>\n",
       "<tbody>\n",
       "\t<tr><td>1980                            </td><td>Paul Siederman &amp; Joe Baldini</td><td> 9.10                           </td><td>United States                   </td><td>0                               </td></tr>\n",
       "\t<tr><td>1981                        </td><td>Thomas DeBerry              </td><td>11.00                       </td><td>United States               </td><td>0                           </td></tr>\n",
       "\t<tr><td>1982                        </td><td>Steven Abrams               </td><td>11.00                       </td><td>United States               </td><td>0                           </td></tr>\n",
       "\t<tr><td>1983                        </td><td>Luis Llamas                 </td><td>19.50                       </td><td>Mexico                      </td><td>0                           </td></tr>\n",
       "\t<tr><td>1984                        </td><td>Birgit Felden               </td><td> 9.50                       </td><td>Germany                     </td><td>0                           </td></tr>\n",
       "\t<tr><td>1985                        </td><td>Oscar Rodriguez             </td><td>11.75                       </td><td>United States               </td><td>0                           </td></tr>\n",
       "</tbody>\n",
       "</table>\n"
      ],
      "text/latex": [
       "\\begin{tabular}{r|lllll}\n",
       " Year & Winner & Dogs eaten & Country & New record\\\\\n",
       "\\hline\n",
       "\t 1980                           & Paul Siederman \\& Joe Baldini &  9.10                          & United States                  & 0                             \\\\\n",
       "\t 1981                         & Thomas DeBerry               & 11.00                        & United States                & 0                           \\\\\n",
       "\t 1982                         & Steven Abrams                & 11.00                        & United States                & 0                           \\\\\n",
       "\t 1983                         & Luis Llamas                  & 19.50                        & Mexico                       & 0                           \\\\\n",
       "\t 1984                         & Birgit Felden                &  9.50                        & Germany                      & 0                           \\\\\n",
       "\t 1985                         & Oscar Rodriguez              & 11.75                        & United States                & 0                           \\\\\n",
       "\\end{tabular}\n"
      ],
      "text/markdown": [
       "\n",
       "| Year | Winner | Dogs eaten | Country | New record |\n",
       "|---|---|---|---|---|\n",
       "| 1980                         | Paul Siederman & Joe Baldini |  9.10                        | United States                | 0                            |\n",
       "| 1981                         | Thomas DeBerry               | 11.00                        | United States                | 0                            |\n",
       "| 1982                         | Steven Abrams                | 11.00                        | United States                | 0                            |\n",
       "| 1983                         | Luis Llamas                  | 19.50                        | Mexico                       | 0                            |\n",
       "| 1984                         | Birgit Felden                |  9.50                        | Germany                      | 0                            |\n",
       "| 1985                         | Oscar Rodriguez              | 11.75                        | United States                | 0                            |\n",
       "\n"
      ],
      "text/plain": [
       "  Year Winner                       Dogs eaten Country       New record\n",
       "1 1980 Paul Siederman & Joe Baldini  9.10      United States 0         \n",
       "2 1981 Thomas DeBerry               11.00      United States 0         \n",
       "3 1982 Steven Abrams                11.00      United States 0         \n",
       "4 1983 Luis Llamas                  19.50      Mexico        0         \n",
       "5 1984 Birgit Felden                 9.50      Germany       0         \n",
       "6 1985 Oscar Rodriguez              11.75      United States 0         "
      ]
     },
     "metadata": {},
     "output_type": "display_data"
    }
   ],
   "source": [
    "# Import the hotdog data\n",
    "hotdog <- read_excel(\"hotdog-contest-winners.xlsm\")\n",
    "head(hotdog)"
   ]
  },
  {
   "cell_type": "code",
   "execution_count": 3,
   "metadata": {},
   "outputs": [
    {
     "data": {
      "image/png": "[encoded data removed]",
      "text/plain": [
       "Plot with title \"Yearly winner hotdog count\""
      ]
     },
     "metadata": {},
     "output_type": "display_data"
    }
   ],
   "source": [
    "# Create the bar chart of number of hot dogs eaten by the winner each year\n",
    "barplot(hotdog$`Dogs eaten`, \n",
    "        hotdog$Year, \n",
    "        names.arg = hotdog$Year,\n",
    "        xlab = \"Month\",\n",
    "        ylab = \"Hotdogs eaten\",\n",
    "        main = \"Yearly winner hotdog count\")"
   ]
  },
  {
   "cell_type": "code",
   "execution_count": 4,
   "metadata": {},
   "outputs": [
    {
     "data": {
      "text/html": [
       "<table>\n",
       "<thead><tr><th scope=col>Issue</th><th scope=col>Approve</th><th scope=col>Disapprove</th><th scope=col>None</th></tr></thead>\n",
       "<tbody>\n",
       "\t<tr><td>Race Relations </td><td>52             </td><td>38             </td><td>10             </td></tr>\n",
       "\t<tr><td>Education      </td><td>49             </td><td>40             </td><td>11             </td></tr>\n",
       "\t<tr><td>Terrorism      </td><td>48             </td><td>45             </td><td> 7             </td></tr>\n",
       "\t<tr><td>Energy Policy  </td><td>47             </td><td>42             </td><td>11             </td></tr>\n",
       "\t<tr><td>Foreign Affairs</td><td>44             </td><td>48             </td><td> 8             </td></tr>\n",
       "\t<tr><td>Environment    </td><td>43             </td><td>51             </td><td> 6             </td></tr>\n",
       "</tbody>\n",
       "</table>\n"
      ],
      "text/latex": [
       "\\begin{tabular}{r|llll}\n",
       " Issue & Approve & Disapprove & None\\\\\n",
       "\\hline\n",
       "\t Race Relations  & 52              & 38              & 10             \\\\\n",
       "\t Education       & 49              & 40              & 11             \\\\\n",
       "\t Terrorism       & 48              & 45              &  7             \\\\\n",
       "\t Energy Policy   & 47              & 42              & 11             \\\\\n",
       "\t Foreign Affairs & 44              & 48              &  8             \\\\\n",
       "\t Environment     & 43              & 51              &  6             \\\\\n",
       "\\end{tabular}\n"
      ],
      "text/markdown": [
       "\n",
       "| Issue | Approve | Disapprove | None |\n",
       "|---|---|---|---|\n",
       "| Race Relations  | 52              | 38              | 10              |\n",
       "| Education       | 49              | 40              | 11              |\n",
       "| Terrorism       | 48              | 45              |  7              |\n",
       "| Energy Policy   | 47              | 42              | 11              |\n",
       "| Foreign Affairs | 44              | 48              |  8              |\n",
       "| Environment     | 43              | 51              |  6              |\n",
       "\n"
      ],
      "text/plain": [
       "  Issue           Approve Disapprove None\n",
       "1 Race Relations  52      38         10  \n",
       "2 Education       49      40         11  \n",
       "3 Terrorism       48      45          7  \n",
       "4 Energy Policy   47      42         11  \n",
       "5 Foreign Affairs 44      48          8  \n",
       "6 Environment     43      51          6  "
      ]
     },
     "metadata": {},
     "output_type": "display_data"
    }
   ],
   "source": [
    "# Import the Obama approval rating dataset\n",
    "obama <- read_excel(\"obama-approval-ratings.xls\")\n",
    "head(obama)"
   ]
  },
  {
   "cell_type": "code",
   "execution_count": 5,
   "metadata": {},
   "outputs": [
    {
     "data": {
      "image/png": "[encoded data removed]",
      "text/plain": [
       "plot without title"
      ]
     },
     "metadata": {},
     "output_type": "display_data"
    }
   ],
   "source": [
    "# https://cran.r-project.org/web/packages/magrittr/vignettes/magrittr.html\n",
    "\n",
    "\n",
    "# Convert the obama rating table to a long version (documentation on the long table found at the above link)\n",
    "obama_long_table <- obama %>% \n",
    "\n",
    "# Reformat the dataframe into a long table and define the new columns\n",
    "    tidyr::gather('Opinion',\n",
    "                  'Percentage by opinion', \n",
    "                  Approve, \n",
    "                  Disapprove, \n",
    "                  None)\n",
    "\n",
    "# Define the data used in the plot\n",
    "ggplot2::ggplot(data = obama_long_table, \n",
    "                ggplot2::aes(x = Issue, \n",
    "                             y = `Percentage by opinion`, \n",
    "                             fill = Opinion)) + \n",
    "\n",
    "# Choose the bar chart\n",
    "ggplot2::geom_bar(stat='identity') + \n",
    "\n",
    "# Rotate the text elements 90 degrees for readability\n",
    "ggplot2::theme(axis.text.x = element_text(angle = 90, hjust = 1))\n",
    "    "
   ]
  },
  {
   "cell_type": "code",
   "execution_count": 6,
   "metadata": {},
   "outputs": [
    {
     "data": {
      "text/html": [
       "<table>\n",
       "<thead><tr><th scope=col>Country</th><th scope=col>n</th></tr></thead>\n",
       "<tbody>\n",
       "\t<tr><td>Germany      </td><td> 1           </td></tr>\n",
       "\t<tr><td>Japan        </td><td> 9           </td></tr>\n",
       "\t<tr><td>Mexico       </td><td> 1           </td></tr>\n",
       "\t<tr><td>United States</td><td>20           </td></tr>\n",
       "</tbody>\n",
       "</table>\n"
      ],
      "text/latex": [
       "\\begin{tabular}{r|ll}\n",
       " Country & n\\\\\n",
       "\\hline\n",
       "\t Germany       &  1           \\\\\n",
       "\t Japan         &  9           \\\\\n",
       "\t Mexico        &  1           \\\\\n",
       "\t United States & 20           \\\\\n",
       "\\end{tabular}\n"
      ],
      "text/markdown": [
       "\n",
       "| Country | n |\n",
       "|---|---|\n",
       "| Germany       |  1            |\n",
       "| Japan         |  9            |\n",
       "| Mexico        |  1            |\n",
       "| United States | 20            |\n",
       "\n"
      ],
      "text/plain": [
       "  Country       n \n",
       "1 Germany        1\n",
       "2 Japan          9\n",
       "3 Mexico         1\n",
       "4 United States 20"
      ]
     },
     "metadata": {},
     "output_type": "display_data"
    }
   ],
   "source": [
    "# Define the hotdog_edit variable by piping the hotdog dataframe into the groupby function and then create\n",
    "# a tally of how many times each country hosted the event\n",
    "hotdog_edit <- hotdog %>% \n",
    "                    group_by(Country) %>% \n",
    "                        tally()\n",
    "hotdog_edit"
   ]
  },
  {
   "cell_type": "code",
   "execution_count": 7,
   "metadata": {},
   "outputs": [
    {
     "data": {
      "image/png": "[encoded data removed]",
      "text/plain": [
       "plot without title"
      ]
     },
     "metadata": {},
     "output_type": "display_data"
    }
   ],
   "source": [
    "# Pipe the hotdog_edit dataframe into the plotting function\n",
    "hotdog_edit %>%\n",
    "\n",
    "# Define the data used in the plot\n",
    "    ggplot2::ggplot(ggplot2::aes(x=\"\",\n",
    "                                 y=Country,\n",
    "                                 fill = n)) +\n",
    "\n",
    "# Create the bar chart of the above data\n",
    "    ggplot2::geom_bar(stat='identity') + \n",
    "\n",
    "# Convert the bar chart to a pie chart by converting the values with polar coordinates\n",
    "    ggplot2::coord_polar('y', start=0) +\n",
    "\n",
    "# Define the aesthetics of the chart\n",
    "    ggplot2::ggtitle(\"Count of years hosted by country\") + \n",
    "    theme_void()"
   ]
  },
  {
   "cell_type": "code",
   "execution_count": 8,
   "metadata": {},
   "outputs": [
    {
     "data": {
      "image/png": "[encoded data removed]",
      "text/plain": [
       "plot without title"
      ]
     },
     "metadata": {},
     "output_type": "display_data"
    }
   ],
   "source": [
    "# Pipes the obama_long_table into the plotting function\n",
    "obama_long_table %>%\n",
    "\n",
    "# By defining the x value in this case we are defining the width of the inner circle\n",
    "    ggplot2::ggplot(ggplot2::aes(x=2,\n",
    "                                y = `Percentage by opinion`,\n",
    "                                fill = Opinion)) +\n",
    "\n",
    "# Create the bar chart of the data and then convert it using polar coordinates\n",
    "    ggplot2::geom_bar(stat = 'identity') +\n",
    "    ggplot2::coord_polar('y', start = 0) +\n",
    "\n",
    "# Define the plots aesthetics\n",
    "    ggplot2::ggtitle(\"Total approval ratings\") +\n",
    "    theme_void() + \n",
    "\n",
    "# Define the limits of the inner circle\n",
    "    xlim(.2,2.5)"
   ]
  },
  {
   "cell_type": "code",
   "execution_count": null,
   "metadata": {},
   "outputs": [],
   "source": []
  }
 ],
 "metadata": {
  "kernelspec": {
   "display_name": "R",
   "language": "R",
   "name": "ir"
  },
  "language_info": {
   "codemirror_mode": "r",
   "file_extension": ".r",
   "mimetype": "text/x-r-source",
   "name": "R",
   "pygments_lexer": "r",
   "version": "3.6.1"
  }
 },
 "nbformat": 4,
 "nbformat_minor": 4
}
