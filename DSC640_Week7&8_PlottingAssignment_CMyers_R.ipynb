{
 "cells": [
  {
   "cell_type": "code",
   "execution_count": 1,
   "metadata": {},
   "outputs": [
    {
     "name": "stderr",
     "output_type": "stream",
     "text": [
      "Warning message:\n",
      "\"package 'ggplot2' was built under R version 3.6.3\"Warning message:\n",
      "\"package 'dplyr' was built under R version 3.6.3\"\n",
      "Attaching package: 'dplyr'\n",
      "\n",
      "The following objects are masked from 'package:stats':\n",
      "\n",
      "    filter, lag\n",
      "\n",
      "The following objects are masked from 'package:base':\n",
      "\n",
      "    intersect, setdiff, setequal, union\n",
      "\n",
      "Warning message:\n",
      "\"package 'pivottabler' was built under R version 3.6.3\"Warning message:\n",
      "\"package 'data.table' was built under R version 3.6.3\"\n",
      "Attaching package: 'data.table'\n",
      "\n",
      "The following objects are masked from 'package:dplyr':\n",
      "\n",
      "    between, first, last\n",
      "\n",
      "Warning message:\n",
      "\"package 'sjmisc' was built under R version 3.6.3\""
     ]
    }
   ],
   "source": [
    "library(ggplot2)\n",
    "library(dplyr)\n",
    "library(pivottabler)\n",
    "library(data.table)\n",
    "library(sjmisc)"
   ]
  },
  {
   "cell_type": "code",
   "execution_count": 2,
   "metadata": {},
   "outputs": [
    {
     "data": {
      "text/html": [
       "<table>\n",
       "<thead><tr><th scope=col>Country</th><th scope=col>X1960</th><th scope=col>X1961</th><th scope=col>X1962</th><th scope=col>X1963</th><th scope=col>X1964</th><th scope=col>X1965</th><th scope=col>X1966</th><th scope=col>X1967</th><th scope=col>X1968</th><th scope=col>...</th><th scope=col>X1999</th><th scope=col>X2000</th><th scope=col>X2001</th><th scope=col>X2002</th><th scope=col>X2003</th><th scope=col>X2004</th><th scope=col>X2005</th><th scope=col>X2006</th><th scope=col>X2007</th><th scope=col>X2008</th></tr></thead>\n",
       "<tbody>\n",
       "\t<tr><td>Aruba               </td><td>36.40000            </td><td>35.179              </td><td>33.863              </td><td>32.459              </td><td>30.994              </td><td>29.51300            </td><td>28.069              </td><td>26.721              </td><td>25.518              </td><td>...                 </td><td>15.02400            </td><td>14.5280             </td><td>14.04100            </td><td>13.57900            </td><td>13.15300            </td><td>12.77200            </td><td>12.44100            </td><td>12.15900            </td><td>11.91900            </td><td>11.71600            </td></tr>\n",
       "\t<tr><td>Afghanistan         </td><td>52.20100            </td><td>52.206              </td><td>52.208              </td><td>52.204              </td><td>52.192              </td><td>52.16800            </td><td>52.130              </td><td>52.076              </td><td>52.006              </td><td>...                 </td><td>51.22900            </td><td>50.9030             </td><td>50.48600            </td><td>49.98400            </td><td>49.41600            </td><td>48.80300            </td><td>48.17700            </td><td>47.57500            </td><td>47.02300            </td><td>46.53800            </td></tr>\n",
       "\t<tr><td>Angola              </td><td>54.43200            </td><td>54.394              </td><td>54.317              </td><td>54.199              </td><td>54.040              </td><td>53.83600            </td><td>53.585              </td><td>53.296              </td><td>52.984              </td><td>...                 </td><td>48.66200            </td><td>48.3550             </td><td>48.00500            </td><td>47.54500            </td><td>46.93600            </td><td>46.18400            </td><td>45.33000            </td><td>44.44400            </td><td>43.60700            </td><td>42.87500            </td></tr>\n",
       "\t<tr><td>Albania             </td><td>40.88600            </td><td>40.312              </td><td>39.604              </td><td>38.792              </td><td>37.913              </td><td>37.00800            </td><td>36.112              </td><td>35.245              </td><td>34.421              </td><td>...                 </td><td>17.71300            </td><td>16.8500             </td><td>16.08100            </td><td>15.44400            </td><td>14.96200            </td><td>14.64400            </td><td>14.48500            </td><td>14.46400            </td><td>14.53400            </td><td>14.64900            </td></tr>\n",
       "\t<tr><td>Netherlands Antilles</td><td>32.32100            </td><td>30.987              </td><td>29.618              </td><td>28.229              </td><td>26.849              </td><td>25.51800            </td><td>24.280              </td><td>23.173              </td><td>22.230              </td><td>...                 </td><td>15.80900            </td><td>15.4120             </td><td>15.09600            </td><td>14.82400            </td><td>14.56500            </td><td>14.30900            </td><td>14.05100            </td><td>13.79000            </td><td>13.53200            </td><td>13.28100            </td></tr>\n",
       "\t<tr><td>Arab World          </td><td>47.61122            </td><td>    NA              </td><td>    NA              </td><td>    NA              </td><td>    NA              </td><td>46.57288            </td><td>    NA              </td><td>    NA              </td><td>    NA              </td><td>...                 </td><td>29.07314            </td><td>28.6828             </td><td>28.30524            </td><td>27.96244            </td><td>27.67007            </td><td>27.37897            </td><td>27.11886            </td><td>26.85532            </td><td>26.59352            </td><td>26.32405            </td></tr>\n",
       "</tbody>\n",
       "</table>\n"
      ],
      "text/latex": [
       "\\begin{tabular}{r|llllllllllllllllllllllllllllllllllllllllllllllllll}\n",
       " Country & X1960 & X1961 & X1962 & X1963 & X1964 & X1965 & X1966 & X1967 & X1968 & ... & X1999 & X2000 & X2001 & X2002 & X2003 & X2004 & X2005 & X2006 & X2007 & X2008\\\\\n",
       "\\hline\n",
       "\t Aruba                & 36.40000             & 35.179               & 33.863               & 32.459               & 30.994               & 29.51300             & 28.069               & 26.721               & 25.518               & ...                  & 15.02400             & 14.5280              & 14.04100             & 13.57900             & 13.15300             & 12.77200             & 12.44100             & 12.15900             & 11.91900             & 11.71600            \\\\\n",
       "\t Afghanistan          & 52.20100             & 52.206               & 52.208               & 52.204               & 52.192               & 52.16800             & 52.130               & 52.076               & 52.006               & ...                  & 51.22900             & 50.9030              & 50.48600             & 49.98400             & 49.41600             & 48.80300             & 48.17700             & 47.57500             & 47.02300             & 46.53800            \\\\\n",
       "\t Angola               & 54.43200             & 54.394               & 54.317               & 54.199               & 54.040               & 53.83600             & 53.585               & 53.296               & 52.984               & ...                  & 48.66200             & 48.3550              & 48.00500             & 47.54500             & 46.93600             & 46.18400             & 45.33000             & 44.44400             & 43.60700             & 42.87500            \\\\\n",
       "\t Albania              & 40.88600             & 40.312               & 39.604               & 38.792               & 37.913               & 37.00800             & 36.112               & 35.245               & 34.421               & ...                  & 17.71300             & 16.8500              & 16.08100             & 15.44400             & 14.96200             & 14.64400             & 14.48500             & 14.46400             & 14.53400             & 14.64900            \\\\\n",
       "\t Netherlands Antilles & 32.32100             & 30.987               & 29.618               & 28.229               & 26.849               & 25.51800             & 24.280               & 23.173               & 22.230               & ...                  & 15.80900             & 15.4120              & 15.09600             & 14.82400             & 14.56500             & 14.30900             & 14.05100             & 13.79000             & 13.53200             & 13.28100            \\\\\n",
       "\t Arab World           & 47.61122             &     NA               &     NA               &     NA               &     NA               & 46.57288             &     NA               &     NA               &     NA               & ...                  & 29.07314             & 28.6828              & 28.30524             & 27.96244             & 27.67007             & 27.37897             & 27.11886             & 26.85532             & 26.59352             & 26.32405            \\\\\n",
       "\\end{tabular}\n"
      ],
      "text/markdown": [
       "\n",
       "| Country | X1960 | X1961 | X1962 | X1963 | X1964 | X1965 | X1966 | X1967 | X1968 | ... | X1999 | X2000 | X2001 | X2002 | X2003 | X2004 | X2005 | X2006 | X2007 | X2008 |\n",
       "|---|---|---|---|---|---|---|---|---|---|---|---|---|---|---|---|---|---|---|---|---|\n",
       "| Aruba                | 36.40000             | 35.179               | 33.863               | 32.459               | 30.994               | 29.51300             | 28.069               | 26.721               | 25.518               | ...                  | 15.02400             | 14.5280              | 14.04100             | 13.57900             | 13.15300             | 12.77200             | 12.44100             | 12.15900             | 11.91900             | 11.71600             |\n",
       "| Afghanistan          | 52.20100             | 52.206               | 52.208               | 52.204               | 52.192               | 52.16800             | 52.130               | 52.076               | 52.006               | ...                  | 51.22900             | 50.9030              | 50.48600             | 49.98400             | 49.41600             | 48.80300             | 48.17700             | 47.57500             | 47.02300             | 46.53800             |\n",
       "| Angola               | 54.43200             | 54.394               | 54.317               | 54.199               | 54.040               | 53.83600             | 53.585               | 53.296               | 52.984               | ...                  | 48.66200             | 48.3550              | 48.00500             | 47.54500             | 46.93600             | 46.18400             | 45.33000             | 44.44400             | 43.60700             | 42.87500             |\n",
       "| Albania              | 40.88600             | 40.312               | 39.604               | 38.792               | 37.913               | 37.00800             | 36.112               | 35.245               | 34.421               | ...                  | 17.71300             | 16.8500              | 16.08100             | 15.44400             | 14.96200             | 14.64400             | 14.48500             | 14.46400             | 14.53400             | 14.64900             |\n",
       "| Netherlands Antilles | 32.32100             | 30.987               | 29.618               | 28.229               | 26.849               | 25.51800             | 24.280               | 23.173               | 22.230               | ...                  | 15.80900             | 15.4120              | 15.09600             | 14.82400             | 14.56500             | 14.30900             | 14.05100             | 13.79000             | 13.53200             | 13.28100             |\n",
       "| Arab World           | 47.61122             |     NA               |     NA               |     NA               |     NA               | 46.57288             |     NA               |     NA               |     NA               | ...                  | 29.07314             | 28.6828              | 28.30524             | 27.96244             | 27.67007             | 27.37897             | 27.11886             | 26.85532             | 26.59352             | 26.32405             |\n",
       "\n"
      ],
      "text/plain": [
       "  Country              X1960    X1961  X1962  X1963  X1964  X1965    X1966 \n",
       "1 Aruba                36.40000 35.179 33.863 32.459 30.994 29.51300 28.069\n",
       "2 Afghanistan          52.20100 52.206 52.208 52.204 52.192 52.16800 52.130\n",
       "3 Angola               54.43200 54.394 54.317 54.199 54.040 53.83600 53.585\n",
       "4 Albania              40.88600 40.312 39.604 38.792 37.913 37.00800 36.112\n",
       "5 Netherlands Antilles 32.32100 30.987 29.618 28.229 26.849 25.51800 24.280\n",
       "6 Arab World           47.61122     NA     NA     NA     NA 46.57288     NA\n",
       "  X1967  X1968  ... X1999    X2000   X2001    X2002    X2003    X2004   \n",
       "1 26.721 25.518 ... 15.02400 14.5280 14.04100 13.57900 13.15300 12.77200\n",
       "2 52.076 52.006 ... 51.22900 50.9030 50.48600 49.98400 49.41600 48.80300\n",
       "3 53.296 52.984 ... 48.66200 48.3550 48.00500 47.54500 46.93600 46.18400\n",
       "4 35.245 34.421 ... 17.71300 16.8500 16.08100 15.44400 14.96200 14.64400\n",
       "5 23.173 22.230 ... 15.80900 15.4120 15.09600 14.82400 14.56500 14.30900\n",
       "6     NA     NA ... 29.07314 28.6828 28.30524 27.96244 27.67007 27.37897\n",
       "  X2005    X2006    X2007    X2008   \n",
       "1 12.44100 12.15900 11.91900 11.71600\n",
       "2 48.17700 47.57500 47.02300 46.53800\n",
       "3 45.33000 44.44400 43.60700 42.87500\n",
       "4 14.48500 14.46400 14.53400 14.64900\n",
       "5 14.05100 13.79000 13.53200 13.28100\n",
       "6 27.11886 26.85532 26.59352 26.32405"
      ]
     },
     "metadata": {},
     "output_type": "display_data"
    }
   ],
   "source": [
    "birth_rates <- read.csv(\"birth-rate.csv\")\n",
    "head(birth_rates)"
   ]
  },
  {
   "cell_type": "code",
   "execution_count": 3,
   "metadata": {},
   "outputs": [
    {
     "data": {
      "text/html": [
       "<table>\n",
       "<thead><tr><th scope=col>1960</th><th scope=col>1961</th><th scope=col>1962</th><th scope=col>1963</th><th scope=col>1964</th><th scope=col>1965</th><th scope=col>1966</th><th scope=col>1967</th><th scope=col>1968</th><th scope=col>1969</th><th scope=col>...</th><th scope=col>1999</th><th scope=col>2000</th><th scope=col>2001</th><th scope=col>2002</th><th scope=col>2003</th><th scope=col>2004</th><th scope=col>2005</th><th scope=col>2006</th><th scope=col>2007</th><th scope=col>2008</th></tr></thead>\n",
       "<tbody>\n",
       "\t<tr><td>23.7    </td><td>23.3    </td><td>22.4    </td><td>21.7    </td><td>21.1    </td><td>19.4    </td><td>18.4    </td><td>17.8    </td><td>17.6    </td><td>17.9    </td><td>...     </td><td>14.5    </td><td>14.7    </td><td>14.1    </td><td>13.9    </td><td>14.14   </td><td>14.13   </td><td>14      </td><td>14.2    </td><td>14.25406</td><td>14.30096</td></tr>\n",
       "</tbody>\n",
       "</table>\n"
      ],
      "text/latex": [
       "\\begin{tabular}{r|lllllllllllllllllllllllllllllllllllllllllllllllll}\n",
       " 1960 & 1961 & 1962 & 1963 & 1964 & 1965 & 1966 & 1967 & 1968 & 1969 & ... & 1999 & 2000 & 2001 & 2002 & 2003 & 2004 & 2005 & 2006 & 2007 & 2008\\\\\n",
       "\\hline\n",
       "\t 23.7     & 23.3     & 22.4     & 21.7     & 21.1     & 19.4     & 18.4     & 17.8     & 17.6     & 17.9     & ...      & 14.5     & 14.7     & 14.1     & 13.9     & 14.14    & 14.13    & 14       & 14.2     & 14.25406 & 14.30096\\\\\n",
       "\\end{tabular}\n"
      ],
      "text/markdown": [
       "\n",
       "| 1960 | 1961 | 1962 | 1963 | 1964 | 1965 | 1966 | 1967 | 1968 | 1969 | ... | 1999 | 2000 | 2001 | 2002 | 2003 | 2004 | 2005 | 2006 | 2007 | 2008 |\n",
       "|---|---|---|---|---|---|---|---|---|---|---|---|---|---|---|---|---|---|---|---|---|\n",
       "| 23.7     | 23.3     | 22.4     | 21.7     | 21.1     | 19.4     | 18.4     | 17.8     | 17.6     | 17.9     | ...      | 14.5     | 14.7     | 14.1     | 13.9     | 14.14    | 14.13    | 14       | 14.2     | 14.25406 | 14.30096 |\n",
       "\n"
      ],
      "text/plain": [
       "  1960 1961 1962 1963 1964 1965 1966 1967 1968 1969 ... 1999 2000 2001 2002\n",
       "1 23.7 23.3 22.4 21.7 21.1 19.4 18.4 17.8 17.6 17.9 ... 14.5 14.7 14.1 13.9\n",
       "  2003  2004  2005 2006 2007     2008    \n",
       "1 14.14 14.13 14   14.2 14.25406 14.30096"
      ]
     },
     "metadata": {},
     "output_type": "display_data"
    }
   ],
   "source": [
    "birth_rates_USA <- birth_rates %>% \n",
    "  dplyr::filter(Country =='United States')\n",
    "birth_rates_USA <- subset(birth_rates_USA, select = - c(Country))\n",
    "names(birth_rates_USA) <- sub(\"^X\", \"\", names(birth_rates_USA))\n",
    "head(birth_rates_USA)"
   ]
  },
  {
   "cell_type": "code",
   "execution_count": 4,
   "metadata": {},
   "outputs": [
    {
     "data": {
      "text/html": [
       "<table>\n",
       "<thead><tr><th></th><th scope=col>1</th></tr></thead>\n",
       "<tbody>\n",
       "\t<tr><th scope=row>1960</th><td>23.7</td></tr>\n",
       "\t<tr><th scope=row>1961</th><td>23.3</td></tr>\n",
       "\t<tr><th scope=row>1962</th><td>22.4</td></tr>\n",
       "\t<tr><th scope=row>1963</th><td>21.7</td></tr>\n",
       "\t<tr><th scope=row>1964</th><td>21.1</td></tr>\n",
       "\t<tr><th scope=row>1965</th><td>19.4</td></tr>\n",
       "</tbody>\n",
       "</table>\n"
      ],
      "text/latex": [
       "\\begin{tabular}{r|l}\n",
       "  & 1\\\\\n",
       "\\hline\n",
       "\t1960 & 23.7\\\\\n",
       "\t1961 & 23.3\\\\\n",
       "\t1962 & 22.4\\\\\n",
       "\t1963 & 21.7\\\\\n",
       "\t1964 & 21.1\\\\\n",
       "\t1965 & 19.4\\\\\n",
       "\\end{tabular}\n"
      ],
      "text/markdown": [
       "\n",
       "| <!--/--> | 1 |\n",
       "|---|---|\n",
       "| 1960 | 23.7 |\n",
       "| 1961 | 23.3 |\n",
       "| 1962 | 22.4 |\n",
       "| 1963 | 21.7 |\n",
       "| 1964 | 21.1 |\n",
       "| 1965 | 19.4 |\n",
       "\n"
      ],
      "text/plain": [
       "     1   \n",
       "1960 23.7\n",
       "1961 23.3\n",
       "1962 22.4\n",
       "1963 21.7\n",
       "1964 21.1\n",
       "1965 19.4"
      ]
     },
     "metadata": {},
     "output_type": "display_data"
    }
   ],
   "source": [
    "birth_rates_USA_pivot <- rotate_df(birth_rates_USA)\n",
    "head(birth_rates_USA_pivot)"
   ]
  },
  {
   "cell_type": "code",
   "execution_count": 5,
   "metadata": {},
   "outputs": [
    {
     "data": {
      "text/html": [
       "<table>\n",
       "<thead><tr><th></th><th scope=col>year</th><th scope=col>birth_rate</th></tr></thead>\n",
       "<tbody>\n",
       "\t<tr><th scope=row>1960</th><td>1960</td><td>23.7</td></tr>\n",
       "\t<tr><th scope=row>1961</th><td>1961</td><td>23.3</td></tr>\n",
       "\t<tr><th scope=row>1962</th><td>1962</td><td>22.4</td></tr>\n",
       "\t<tr><th scope=row>1963</th><td>1963</td><td>21.7</td></tr>\n",
       "\t<tr><th scope=row>1964</th><td>1964</td><td>21.1</td></tr>\n",
       "\t<tr><th scope=row>1965</th><td>1965</td><td>19.4</td></tr>\n",
       "</tbody>\n",
       "</table>\n"
      ],
      "text/latex": [
       "\\begin{tabular}{r|ll}\n",
       "  & year & birth\\_rate\\\\\n",
       "\\hline\n",
       "\t1960 & 1960 & 23.7\\\\\n",
       "\t1961 & 1961 & 23.3\\\\\n",
       "\t1962 & 1962 & 22.4\\\\\n",
       "\t1963 & 1963 & 21.7\\\\\n",
       "\t1964 & 1964 & 21.1\\\\\n",
       "\t1965 & 1965 & 19.4\\\\\n",
       "\\end{tabular}\n"
      ],
      "text/markdown": [
       "\n",
       "| <!--/--> | year | birth_rate |\n",
       "|---|---|---|\n",
       "| 1960 | 1960 | 23.7 |\n",
       "| 1961 | 1961 | 23.3 |\n",
       "| 1962 | 1962 | 22.4 |\n",
       "| 1963 | 1963 | 21.7 |\n",
       "| 1964 | 1964 | 21.1 |\n",
       "| 1965 | 1965 | 19.4 |\n",
       "\n"
      ],
      "text/plain": [
       "     year birth_rate\n",
       "1960 1960 23.7      \n",
       "1961 1961 23.3      \n",
       "1962 1962 22.4      \n",
       "1963 1963 21.7      \n",
       "1964 1964 21.1      \n",
       "1965 1965 19.4      "
      ]
     },
     "metadata": {},
     "output_type": "display_data"
    }
   ],
   "source": [
    "birth_rates_USA_pivot$year <- rownames(birth_rates_USA_pivot)\n",
    "birth_rates_USA_pivot$birth_rate <- birth_rates_USA_pivot$\"1\"\n",
    "birth_rates_USA_pivot <- subset(birth_rates_USA_pivot, select = -c(1))\n",
    "\n",
    "head(birth_rates_USA_pivot)"
   ]
  },
  {
   "cell_type": "code",
   "execution_count": 10,
   "metadata": {},
   "outputs": [
    {
     "data": {
      "image/png": "[encoded data removed]",
      "text/plain": [
       "plot without title"
      ]
     },
     "metadata": {},
     "output_type": "display_data"
    }
   ],
   "source": [
    "ggplot(birth_rates_USA_pivot, aes(x=year, y=birth_rate)) + geom_point() + coord_flip() + ggtitle(\"Birth Rate In the USA\")"
   ]
  },
  {
   "cell_type": "code",
   "execution_count": 13,
   "metadata": {},
   "outputs": [
    {
     "data": {
      "image/png": "[encoded data removed]",
      "text/plain": [
       "plot without title"
      ]
     },
     "metadata": {},
     "output_type": "display_data"
    }
   ],
   "source": [
    "ggplot(birth_rates_USA_pivot, aes(x=year, y=birth_rate)) + geom_point(aes(size=birth_rate)) + coord_flip() + ggtitle(\"Birth Rate In the USA\")"
   ]
  },
  {
   "cell_type": "code",
   "execution_count": 15,
   "metadata": {},
   "outputs": [
    {
     "data": {
      "image/png": "[encoded data removed]",
      "text/plain": [
       "Plot with title \"Birth Rate in the USA\""
      ]
     },
     "metadata": {},
     "output_type": "display_data"
    }
   ],
   "source": [
    "x <- birth_rates_USA_pivot$birth_rate\n",
    "h<-hist(x, breaks=10, col=\"red\", xlab=\"Birth Rate (%)\",\n",
    "   main=\"Birth Rate in the USA\")\n",
    "xfit<-seq(min(x),max(x),length=40)\n",
    "yfit<-dnorm(xfit,mean=mean(x),sd=sd(x))\n",
    "yfit <- yfit*diff(h$mids[1:2])*length(x)\n",
    "lines(xfit, yfit, col=\"blue\", lwd=2)"
   ]
  },
  {
   "cell_type": "code",
   "execution_count": null,
   "metadata": {},
   "outputs": [],
   "source": []
  }
 ],
 "metadata": {
  "kernelspec": {
   "display_name": "R",
   "language": "R",
   "name": "ir"
  },
  "language_info": {
   "codemirror_mode": "r",
   "file_extension": ".r",
   "mimetype": "text/x-r-source",
   "name": "R",
   "pygments_lexer": "r",
   "version": "3.6.1"
  }
 },
 "nbformat": 4,
 "nbformat_minor": 4
}
